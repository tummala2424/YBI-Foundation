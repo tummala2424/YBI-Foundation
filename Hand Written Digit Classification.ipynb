{
 "cells": [
  {
   "cell_type": "markdown",
   "id": "43403d4a",
   "metadata": {},
   "source": [
    "# Hand Written Digit Prediction\n",
    "\n",
    "The digits dataset consists of 8x8 pixel images of digits. The images attribute of the dataset stores 8x8 arrays of grayscale values for each image. We will use these arrays to visualise the first 4 images. The target attribute of the dataset stores the digit each image represents."
   ]
  },
  {
   "cell_type": "code",
   "execution_count": 1,
   "id": "f894d8d9",
   "metadata": {},
   "outputs": [],
   "source": [
    "# import library\n",
    "\n",
    "import pandas as pd\n",
    "import numpy as np\n",
    "import matplotlib.pyplot as plt"
   ]
  },
  {
   "cell_type": "code",
   "execution_count": 2,
   "id": "1e055088",
   "metadata": {},
   "outputs": [],
   "source": [
    "# import Data\n",
    "\n",
    "from sklearn.datasets import load_digits"
   ]
  },
  {
   "cell_type": "code",
   "execution_count": 3,
   "id": "3950ec2e",
   "metadata": {},
   "outputs": [],
   "source": [
    "df=load_digits()"
   ]
  },
  {
   "cell_type": "code",
   "execution_count": 5,
   "id": "91dd9839",
   "metadata": {},
   "outputs": [
    {
     "data": {
      "image/png": "[encoded data removed]",
      "text/plain": [
       "<Figure size 720x216 with 4 Axes>"
      ]
     },
     "metadata": {
      "needs_background": "light"
     },
     "output_type": "display_data"
    }
   ],
   "source": [
    "_, axes=plt.subplots(nrows=1, ncols=4, figsize=(10,3))\n",
    "for ax, image, label in zip(axes, df.images, df.target):\n",
    "    ax.set_axis_off()\n",
    "    ax.imshow(image, cmap=plt.cm.gray_r, interpolation=\"nearest\")\n",
    "    ax.set_title(\"Training: %i\" %label)"
   ]
  },
  {
   "cell_type": "code",
   "execution_count": 6,
   "id": "efaf2802",
   "metadata": {},
   "outputs": [
    {
     "data": {
      "text/plain": [
       "(1797, 8, 8)"
      ]
     },
     "execution_count": 6,
     "metadata": {},
     "output_type": "execute_result"
    }
   ],
   "source": [
    "# Data Preprocessing\n",
    "\n",
    "df.images.shape"
   ]
  },
  {
   "cell_type": "code",
   "execution_count": 7,
   "id": "8ecafceb",
   "metadata": {},
   "outputs": [
    {
     "data": {
      "text/plain": [
       "array([[ 0.,  0.,  5., 13.,  9.,  1.,  0.,  0.],\n",
       "       [ 0.,  0., 13., 15., 10., 15.,  5.,  0.],\n",
       "       [ 0.,  3., 15.,  2.,  0., 11.,  8.,  0.],\n",
       "       [ 0.,  4., 12.,  0.,  0.,  8.,  8.,  0.],\n",
       "       [ 0.,  5.,  8.,  0.,  0.,  9.,  8.,  0.],\n",
       "       [ 0.,  4., 11.,  0.,  1., 12.,  7.,  0.],\n",
       "       [ 0.,  2., 14.,  5., 10., 12.,  0.,  0.],\n",
       "       [ 0.,  0.,  6., 13., 10.,  0.,  0.,  0.]])"
      ]
     },
     "execution_count": 7,
     "metadata": {},
     "output_type": "execute_result"
    }
   ],
   "source": [
    "df.images[0]"
   ]
  },
  {
   "cell_type": "code",
   "execution_count": 8,
   "id": "b4eab4a4",
   "metadata": {},
   "outputs": [
    {
     "data": {
      "text/plain": [
       "(8, 8)"
      ]
     },
     "execution_count": 8,
     "metadata": {},
     "output_type": "execute_result"
    }
   ],
   "source": [
    "df.images[0].shape"
   ]
  },
  {
   "cell_type": "code",
   "execution_count": 9,
   "id": "4240b27c",
   "metadata": {},
   "outputs": [
    {
     "data": {
      "text/plain": [
       "1797"
      ]
     },
     "execution_count": 9,
     "metadata": {},
     "output_type": "execute_result"
    }
   ],
   "source": [
    "len(df.images)"
   ]
  },
  {
   "cell_type": "code",
   "execution_count": 10,
   "id": "f029ae67",
   "metadata": {},
   "outputs": [],
   "source": [
    "n_samples=len(df.images)\n",
    "data=df.images.reshape((n_samples,-1))"
   ]
  },
  {
   "cell_type": "code",
   "execution_count": 11,
   "id": "c9e377f8",
   "metadata": {},
   "outputs": [
    {
     "data": {
      "text/plain": [
       "array([ 0.,  0.,  5., 13.,  9.,  1.,  0.,  0.,  0.,  0., 13., 15., 10.,\n",
       "       15.,  5.,  0.,  0.,  3., 15.,  2.,  0., 11.,  8.,  0.,  0.,  4.,\n",
       "       12.,  0.,  0.,  8.,  8.,  0.,  0.,  5.,  8.,  0.,  0.,  9.,  8.,\n",
       "        0.,  0.,  4., 11.,  0.,  1., 12.,  7.,  0.,  0.,  2., 14.,  5.,\n",
       "       10., 12.,  0.,  0.,  0.,  0.,  6., 13., 10.,  0.,  0.,  0.])"
      ]
     },
     "execution_count": 11,
     "metadata": {},
     "output_type": "execute_result"
    }
   ],
   "source": [
    "data[0]"
   ]
  },
  {
   "cell_type": "code",
   "execution_count": 12,
   "id": "6984602a",
   "metadata": {},
   "outputs": [
    {
     "data": {
      "text/plain": [
       "(64,)"
      ]
     },
     "execution_count": 12,
     "metadata": {},
     "output_type": "execute_result"
    }
   ],
   "source": [
    "data[0].shape"
   ]
  },
  {
   "cell_type": "code",
   "execution_count": 13,
   "id": "3207b800",
   "metadata": {},
   "outputs": [
    {
     "data": {
      "text/plain": [
       "(1797, 64)"
      ]
     },
     "execution_count": 13,
     "metadata": {},
     "output_type": "execute_result"
    }
   ],
   "source": [
    "data.shape"
   ]
  },
  {
   "cell_type": "code",
   "execution_count": 14,
   "id": "3b023388",
   "metadata": {},
   "outputs": [
    {
     "data": {
      "text/plain": [
       "0.0"
      ]
     },
     "execution_count": 14,
     "metadata": {},
     "output_type": "execute_result"
    }
   ],
   "source": [
    "# Scaling Image Data\n",
    "\n",
    "data.min()"
   ]
  },
  {
   "cell_type": "code",
   "execution_count": 15,
   "id": "43058547",
   "metadata": {},
   "outputs": [
    {
     "data": {
      "text/plain": [
       "16.0"
      ]
     },
     "execution_count": 15,
     "metadata": {},
     "output_type": "execute_result"
    }
   ],
   "source": [
    "data.max()"
   ]
  },
  {
   "cell_type": "code",
   "execution_count": 16,
   "id": "5db1fa8d",
   "metadata": {},
   "outputs": [],
   "source": [
    "data=data/16"
   ]
  },
  {
   "cell_type": "code",
   "execution_count": 19,
   "id": "00824d6d",
   "metadata": {},
   "outputs": [
    {
     "data": {
      "text/plain": [
       "1.0"
      ]
     },
     "execution_count": 19,
     "metadata": {},
     "output_type": "execute_result"
    }
   ],
   "source": [
    "data.max()"
   ]
  },
  {
   "cell_type": "code",
   "execution_count": 20,
   "id": "3e3df6b7",
   "metadata": {},
   "outputs": [
    {
     "data": {
      "text/plain": [
       "array([0.    , 0.    , 0.3125, 0.8125, 0.5625, 0.0625, 0.    , 0.    ,\n",
       "       0.    , 0.    , 0.8125, 0.9375, 0.625 , 0.9375, 0.3125, 0.    ,\n",
       "       0.    , 0.1875, 0.9375, 0.125 , 0.    , 0.6875, 0.5   , 0.    ,\n",
       "       0.    , 0.25  , 0.75  , 0.    , 0.    , 0.5   , 0.5   , 0.    ,\n",
       "       0.    , 0.3125, 0.5   , 0.    , 0.    , 0.5625, 0.5   , 0.    ,\n",
       "       0.    , 0.25  , 0.6875, 0.    , 0.0625, 0.75  , 0.4375, 0.    ,\n",
       "       0.    , 0.125 , 0.875 , 0.3125, 0.625 , 0.75  , 0.    , 0.    ,\n",
       "       0.    , 0.    , 0.375 , 0.8125, 0.625 , 0.    , 0.    , 0.    ])"
      ]
     },
     "execution_count": 20,
     "metadata": {},
     "output_type": "execute_result"
    }
   ],
   "source": [
    "data[0]"
   ]
  },
  {
   "cell_type": "code",
   "execution_count": 21,
   "id": "7c41ec67",
   "metadata": {},
   "outputs": [
    {
     "data": {
      "text/plain": [
       "((1257, 64), (540, 64), (1257,), (540,))"
      ]
     },
     "execution_count": 21,
     "metadata": {},
     "output_type": "execute_result"
    }
   ],
   "source": [
    "# Train Test Split\n",
    "\n",
    "from sklearn.model_selection import train_test_split\n",
    "x_train,x_test,y_train,y_test=train_test_split(data,df.target,test_size=0.3)\n",
    "x_train.shape,x_test.shape,y_train.shape,y_test.shape"
   ]
  },
  {
   "cell_type": "code",
   "execution_count": 22,
   "id": "55532fe4",
   "metadata": {},
   "outputs": [
    {
     "data": {
      "text/plain": [
       "RandomForestClassifier()"
      ]
     },
     "execution_count": 22,
     "metadata": {},
     "output_type": "execute_result"
    }
   ],
   "source": [
    "# Random Forest Model\n",
    "\n",
    "from sklearn.ensemble import RandomForestClassifier\n",
    "rf=RandomForestClassifier()\n",
    "rf.fit(x_train,y_train)"
   ]
  },
  {
   "cell_type": "code",
   "execution_count": 23,
   "id": "0493bd98",
   "metadata": {},
   "outputs": [],
   "source": [
    "# Predict Test Data\n",
    "\n",
    "y_pred=rf.predict(x_test)"
   ]
  },
  {
   "cell_type": "code",
   "execution_count": 24,
   "id": "3d53c753",
   "metadata": {},
   "outputs": [
    {
     "data": {
      "text/plain": [
       "array([3, 0, 2, 8, 7, 7, 0, 2, 6, 3, 8, 3, 5, 8, 7, 7, 0, 5, 9, 9, 6, 6,\n",
       "       4, 0, 9, 8, 9, 3, 6, 1, 5, 7, 4, 1, 5, 2, 0, 4, 6, 0, 1, 7, 5, 1,\n",
       "       2, 9, 5, 6, 0, 7, 1, 3, 0, 8, 8, 9, 3, 1, 2, 0, 4, 4, 2, 2, 2, 6,\n",
       "       2, 4, 6, 4, 7, 1, 3, 3, 7, 5, 9, 6, 8, 8, 8, 9, 7, 5, 8, 3, 1, 2,\n",
       "       8, 4, 8, 3, 9, 7, 1, 5, 6, 1, 1, 3, 1, 1, 3, 1, 4, 9, 9, 8, 8, 7,\n",
       "       2, 9, 7, 5, 9, 9, 0, 0, 0, 2, 2, 1, 5, 4, 8, 8, 5, 6, 0, 1, 6, 1,\n",
       "       3, 3, 6, 5, 7, 6, 4, 7, 9, 0, 3, 9, 3, 1, 3, 4, 5, 2, 3, 5, 8, 6,\n",
       "       3, 8, 1, 6, 5, 1, 5, 4, 2, 0, 1, 7, 6, 9, 8, 5, 4, 2, 1, 3, 0, 3,\n",
       "       7, 6, 3, 3, 7, 2, 2, 0, 7, 5, 7, 0, 0, 4, 7, 1, 0, 7, 1, 7, 3, 5,\n",
       "       4, 6, 3, 9, 4, 7, 4, 4, 6, 1, 4, 4, 6, 5, 2, 6, 2, 6, 5, 6, 9, 9,\n",
       "       7, 4, 0, 1, 5, 1, 2, 7, 2, 5, 1, 0, 2, 9, 2, 1, 2, 9, 0, 5, 1, 9,\n",
       "       4, 1, 0, 6, 5, 0, 9, 8, 6, 2, 6, 4, 0, 2, 1, 8, 3, 4, 3, 4, 4, 8,\n",
       "       3, 1, 3, 7, 4, 5, 0, 2, 0, 3, 5, 4, 4, 8, 0, 5, 2, 2, 1, 2, 9, 6,\n",
       "       7, 1, 3, 4, 3, 0, 4, 5, 0, 6, 2, 2, 4, 5, 8, 2, 5, 5, 8, 9, 0, 1,\n",
       "       5, 6, 8, 1, 5, 0, 9, 6, 7, 7, 7, 0, 5, 9, 3, 0, 9, 7, 9, 4, 5, 6,\n",
       "       2, 8, 9, 9, 7, 6, 9, 4, 5, 5, 9, 9, 9, 2, 1, 4, 2, 1, 5, 2, 3, 3,\n",
       "       4, 9, 2, 7, 6, 8, 1, 5, 7, 9, 4, 8, 3, 4, 1, 9, 4, 8, 7, 6, 3, 7,\n",
       "       5, 2, 4, 9, 5, 9, 2, 9, 1, 0, 9, 1, 1, 8, 7, 6, 8, 9, 1, 7, 7, 8,\n",
       "       8, 7, 5, 0, 1, 7, 6, 9, 7, 9, 5, 5, 1, 5, 1, 3, 5, 4, 0, 2, 1, 0,\n",
       "       3, 5, 7, 2, 7, 8, 2, 0, 4, 6, 4, 7, 6, 7, 6, 0, 6, 0, 0, 0, 4, 9,\n",
       "       3, 1, 6, 3, 1, 1, 6, 8, 4, 9, 1, 4, 0, 3, 4, 9, 4, 4, 8, 0, 8, 6,\n",
       "       4, 5, 3, 3, 2, 2, 0, 9, 3, 1, 6, 0, 1, 6, 4, 7, 5, 4, 6, 7, 8, 0,\n",
       "       2, 8, 7, 6, 1, 6, 4, 1, 0, 9, 7, 7, 4, 6, 8, 0, 4, 1, 7, 0, 1, 0,\n",
       "       4, 2, 9, 8, 2, 0, 7, 6, 9, 6, 1, 7, 5, 4, 3, 2, 2, 4, 6, 5, 2, 9,\n",
       "       3, 0, 7, 6, 5, 7, 5, 6, 9, 3, 8, 9])"
      ]
     },
     "execution_count": 24,
     "metadata": {},
     "output_type": "execute_result"
    }
   ],
   "source": [
    "y_pred"
   ]
  },
  {
   "cell_type": "code",
   "execution_count": 25,
   "id": "4721bd9a",
   "metadata": {},
   "outputs": [
    {
     "data": {
      "text/plain": [
       "array([[55,  0,  0,  0,  1,  0,  0,  0,  0,  0],\n",
       "       [ 0, 59,  0,  0,  0,  0,  0,  0,  0,  1],\n",
       "       [ 0,  1, 52,  0,  0,  0,  0,  0,  0,  0],\n",
       "       [ 0,  0,  0, 47,  0,  0,  0,  0,  1,  0],\n",
       "       [ 0,  0,  0,  0, 56,  1,  0,  1,  0,  0],\n",
       "       [ 0,  0,  0,  0,  1, 53,  0,  0,  0,  2],\n",
       "       [ 0,  0,  0,  0,  0,  0, 54,  0,  0,  0],\n",
       "       [ 0,  0,  0,  0,  1,  0,  0, 55,  0,  0],\n",
       "       [ 0,  0,  0,  0,  0,  0,  1,  0, 42,  1],\n",
       "       [ 0,  0,  0,  1,  0,  1,  0,  1,  0, 52]], dtype=int64)"
      ]
     },
     "execution_count": 25,
     "metadata": {},
     "output_type": "execute_result"
    }
   ],
   "source": [
    "# Model Accuracy\n",
    "\n",
    "from sklearn.metrics import confusion_matrix, classification_report\n",
    "confusion_matrix(y_test, y_pred)"
   ]
  },
  {
   "cell_type": "code",
   "execution_count": 26,
   "id": "824ebc28",
   "metadata": {},
   "outputs": [
    {
     "name": "stdout",
     "output_type": "stream",
     "text": [
      "              precision    recall  f1-score   support\n",
      "\n",
      "           0       1.00      0.98      0.99        56\n",
      "           1       0.98      0.98      0.98        60\n",
      "           2       1.00      0.98      0.99        53\n",
      "           3       0.98      0.98      0.98        48\n",
      "           4       0.95      0.97      0.96        58\n",
      "           5       0.96      0.95      0.95        56\n",
      "           6       0.98      1.00      0.99        54\n",
      "           7       0.96      0.98      0.97        56\n",
      "           8       0.98      0.95      0.97        44\n",
      "           9       0.93      0.95      0.94        55\n",
      "\n",
      "    accuracy                           0.97       540\n",
      "   macro avg       0.97      0.97      0.97       540\n",
      "weighted avg       0.97      0.97      0.97       540\n",
      "\n"
     ]
    }
   ],
   "source": [
    "print(classification_report(y_test,y_pred))"
   ]
  },
  {
   "cell_type": "code",
   "execution_count": null,
   "id": "749839ab",
   "metadata": {},
   "outputs": [],
   "source": []
  }
 ],
 "metadata": {
  "kernelspec": {
   "display_name": "Python 3 (ipykernel)",
   "language": "python",
   "name": "python3"
  },
  "language_info": {
   "codemirror_mode": {
    "name": "ipython",
    "version": 3
   },
   "file_extension": ".py",
   "mimetype": "text/x-python",
   "name": "python",
   "nbconvert_exporter": "python",
   "pygments_lexer": "ipython3",
   "version": "3.9.7"
  }
 },
 "nbformat": 4,
 "nbformat_minor": 5
}
